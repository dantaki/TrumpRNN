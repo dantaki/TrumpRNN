{
 "cells": [
  {
   "cell_type": "code",
   "execution_count": 1,
   "metadata": {},
   "outputs": [],
   "source": [
    "import requests\n",
    "website_url = requests.get('https://en.wikipedia.org/wiki/List_of_nicknames_used_by_Donald_Trump#Domestic_political_figures').text\n",
    "from bs4 import BeautifulSoup\n",
    "soup = BeautifulSoup(website_url,'lxml')\n",
    "My_table = soup.find('table',{'class':'wikitable sortable'})\n",
    "links = My_table.findAll('table')"
   ]
  },
  {
   "cell_type": "code",
   "execution_count": 2,
   "metadata": {},
   "outputs": [
    {
     "name": "stdout",
     "output_type": "stream",
     "text": [
      "[]\n"
     ]
    }
   ],
   "source": [
    "Countries=[]\n",
    "for link in links:\n",
    "    Countries.append(link.get('title'))\n",
    "print(Countries)"
   ]
  },
  {
   "cell_type": "code",
   "execution_count": 3,
   "metadata": {},
   "outputs": [],
   "source": [
    "import urllib.request\n",
    "url = 'https://en.wikipedia.org/wiki/List_of_nicknames_used_by_Donald_Trump'\n",
    "req = urllib.request.urlopen(url)\n",
    "article = req.read().decode()\n",
    "with open('trumpnicknames_v2.html', 'w') as fo:\n",
    "    fo.write(article)"
   ]
  },
  {
   "cell_type": "code",
   "execution_count": 4,
   "metadata": {},
   "outputs": [
    {
     "name": "stdout",
     "output_type": "stream",
     "text": [
      "['Nickname', 'Personal name', 'Notes']\n",
      "['Nickname', 'Personal name', 'Notes']\n",
      "['Nickname', 'Personal name', 'Notes']\n",
      "['Nickname', 'Group members', 'Notes']\n",
      "['Nickname', 'Personal name', 'Notes']\n",
      "['Nickname', 'Official name', 'Notes']\n",
      "['Nickname', 'Official name', 'Notes']\n",
      "['Nickname', 'Usual name', 'Notes']\n"
     ]
    }
   ],
   "source": [
    "from bs4 import BeautifulSoup\n",
    "# Load article, turn into soup and get the <table>s.\n",
    "article = open('trumpnicknames_v2.html').read()\n",
    "soup = BeautifulSoup(article, 'html.parser')\n",
    "tables = soup.find_all('table', class_='sortable')\n",
    "\n",
    "ofh = open('trumpnicknames_v2.txt','w')\n",
    "# Search through the tables for the one with the headings we want.\n",
    "for table in tables:\n",
    "    ths = table.find_all('th')\n",
    "    headings = [th.text.strip() for th in ths]\n",
    "    print(headings)\n",
    "    for tr in table.find_all('tr'):\n",
    "        tds = tr.find_all('td')\n",
    "        if not tds:\n",
    "            continue\n",
    "        row = [td.text.strip() for td in tds[:4]]\n",
    "        ofh.write(row[0]+'\\n')\n",
    "ofh.close()"
   ]
  },
  {
   "cell_type": "code",
   "execution_count": null,
   "metadata": {},
   "outputs": [],
   "source": []
  }
 ],
 "metadata": {
  "kernelspec": {
   "display_name": "Python 3",
   "language": "python",
   "name": "python3"
  },
  "language_info": {
   "codemirror_mode": {
    "name": "ipython",
    "version": 3
   },
   "file_extension": ".py",
   "mimetype": "text/x-python",
   "name": "python",
   "nbconvert_exporter": "python",
   "pygments_lexer": "ipython3",
   "version": "3.7.3"
  }
 },
 "nbformat": 4,
 "nbformat_minor": 2
}
